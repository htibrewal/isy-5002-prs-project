{
  "nbformat": 4,
  "nbformat_minor": 0,
  "metadata": {
    "colab": {
      "provenance": []
    },
    "kernelspec": {
      "name": "python3",
      "display_name": "Python 3"
    },
    "language_info": {
      "name": "python"
    }
  },
  "cells": [
    {
      "cell_type": "code",
      "source": [
        "!pip install gradio --upgrade"
      ],
      "metadata": {
        "colab": {
          "base_uri": "https://localhost:8080/"
        },
        "id": "V9GoYd6J4UpQ",
        "outputId": "9f38a550-22af-496f-ccb3-3268b038ed3f"
      },
      "execution_count": 28,
      "outputs": [
        {
          "output_type": "stream",
          "name": "stdout",
          "text": [
            "Requirement already satisfied: gradio in /usr/local/lib/python3.10/dist-packages (5.4.0)\n",
            "Requirement already satisfied: aiofiles<24.0,>=22.0 in /usr/local/lib/python3.10/dist-packages (from gradio) (23.2.1)\n",
            "Requirement already satisfied: anyio<5.0,>=3.0 in /usr/local/lib/python3.10/dist-packages (from gradio) (3.7.1)\n",
            "Requirement already satisfied: fastapi<1.0,>=0.115.2 in /usr/local/lib/python3.10/dist-packages (from gradio) (0.115.4)\n",
            "Requirement already satisfied: ffmpy in /usr/local/lib/python3.10/dist-packages (from gradio) (0.4.0)\n",
            "Requirement already satisfied: gradio-client==1.4.2 in /usr/local/lib/python3.10/dist-packages (from gradio) (1.4.2)\n",
            "Requirement already satisfied: httpx>=0.24.1 in /usr/local/lib/python3.10/dist-packages (from gradio) (0.27.2)\n",
            "Requirement already satisfied: huggingface-hub>=0.25.1 in /usr/local/lib/python3.10/dist-packages (from gradio) (0.26.2)\n",
            "Requirement already satisfied: jinja2<4.0 in /usr/local/lib/python3.10/dist-packages (from gradio) (3.1.4)\n",
            "Requirement already satisfied: markupsafe~=2.0 in /usr/local/lib/python3.10/dist-packages (from gradio) (2.1.5)\n",
            "Requirement already satisfied: numpy<3.0,>=1.0 in /usr/local/lib/python3.10/dist-packages (from gradio) (1.26.4)\n",
            "Requirement already satisfied: orjson~=3.0 in /usr/local/lib/python3.10/dist-packages (from gradio) (3.10.10)\n",
            "Requirement already satisfied: packaging in /usr/local/lib/python3.10/dist-packages (from gradio) (24.1)\n",
            "Requirement already satisfied: pandas<3.0,>=1.0 in /usr/local/lib/python3.10/dist-packages (from gradio) (2.2.2)\n",
            "Requirement already satisfied: pillow<12.0,>=8.0 in /usr/local/lib/python3.10/dist-packages (from gradio) (10.4.0)\n",
            "Requirement already satisfied: pydantic>=2.0 in /usr/local/lib/python3.10/dist-packages (from gradio) (2.9.2)\n",
            "Requirement already satisfied: pydub in /usr/local/lib/python3.10/dist-packages (from gradio) (0.25.1)\n",
            "Requirement already satisfied: python-multipart==0.0.12 in /usr/local/lib/python3.10/dist-packages (from gradio) (0.0.12)\n",
            "Requirement already satisfied: pyyaml<7.0,>=5.0 in /usr/local/lib/python3.10/dist-packages (from gradio) (6.0.2)\n",
            "Requirement already satisfied: ruff>=0.2.2 in /usr/local/lib/python3.10/dist-packages (from gradio) (0.7.1)\n",
            "Requirement already satisfied: safehttpx<1.0,>=0.1.1 in /usr/local/lib/python3.10/dist-packages (from gradio) (0.1.1)\n",
            "Requirement already satisfied: semantic-version~=2.0 in /usr/local/lib/python3.10/dist-packages (from gradio) (2.10.0)\n",
            "Requirement already satisfied: starlette<1.0,>=0.40.0 in /usr/local/lib/python3.10/dist-packages (from gradio) (0.41.2)\n",
            "Requirement already satisfied: tomlkit==0.12.0 in /usr/local/lib/python3.10/dist-packages (from gradio) (0.12.0)\n",
            "Requirement already satisfied: typer<1.0,>=0.12 in /usr/local/lib/python3.10/dist-packages (from gradio) (0.12.5)\n",
            "Requirement already satisfied: typing-extensions~=4.0 in /usr/local/lib/python3.10/dist-packages (from gradio) (4.12.2)\n",
            "Requirement already satisfied: uvicorn>=0.14.0 in /usr/local/lib/python3.10/dist-packages (from gradio) (0.32.0)\n",
            "Requirement already satisfied: fsspec in /usr/local/lib/python3.10/dist-packages (from gradio-client==1.4.2->gradio) (2024.6.1)\n",
            "Requirement already satisfied: websockets<13.0,>=10.0 in /usr/local/lib/python3.10/dist-packages (from gradio-client==1.4.2->gradio) (12.0)\n",
            "Requirement already satisfied: idna>=2.8 in /usr/local/lib/python3.10/dist-packages (from anyio<5.0,>=3.0->gradio) (3.10)\n",
            "Requirement already satisfied: sniffio>=1.1 in /usr/local/lib/python3.10/dist-packages (from anyio<5.0,>=3.0->gradio) (1.3.1)\n",
            "Requirement already satisfied: exceptiongroup in /usr/local/lib/python3.10/dist-packages (from anyio<5.0,>=3.0->gradio) (1.2.2)\n",
            "Requirement already satisfied: certifi in /usr/local/lib/python3.10/dist-packages (from httpx>=0.24.1->gradio) (2024.8.30)\n",
            "Requirement already satisfied: httpcore==1.* in /usr/local/lib/python3.10/dist-packages (from httpx>=0.24.1->gradio) (1.0.6)\n",
            "Requirement already satisfied: h11<0.15,>=0.13 in /usr/local/lib/python3.10/dist-packages (from httpcore==1.*->httpx>=0.24.1->gradio) (0.14.0)\n",
            "Requirement already satisfied: filelock in /usr/local/lib/python3.10/dist-packages (from huggingface-hub>=0.25.1->gradio) (3.16.1)\n",
            "Requirement already satisfied: requests in /usr/local/lib/python3.10/dist-packages (from huggingface-hub>=0.25.1->gradio) (2.32.3)\n",
            "Requirement already satisfied: tqdm>=4.42.1 in /usr/local/lib/python3.10/dist-packages (from huggingface-hub>=0.25.1->gradio) (4.66.5)\n",
            "Requirement already satisfied: python-dateutil>=2.8.2 in /usr/local/lib/python3.10/dist-packages (from pandas<3.0,>=1.0->gradio) (2.8.2)\n",
            "Requirement already satisfied: pytz>=2020.1 in /usr/local/lib/python3.10/dist-packages (from pandas<3.0,>=1.0->gradio) (2024.2)\n",
            "Requirement already satisfied: tzdata>=2022.7 in /usr/local/lib/python3.10/dist-packages (from pandas<3.0,>=1.0->gradio) (2024.2)\n",
            "Requirement already satisfied: annotated-types>=0.6.0 in /usr/local/lib/python3.10/dist-packages (from pydantic>=2.0->gradio) (0.7.0)\n",
            "Requirement already satisfied: pydantic-core==2.23.4 in /usr/local/lib/python3.10/dist-packages (from pydantic>=2.0->gradio) (2.23.4)\n",
            "Requirement already satisfied: click>=8.0.0 in /usr/local/lib/python3.10/dist-packages (from typer<1.0,>=0.12->gradio) (8.1.7)\n",
            "Requirement already satisfied: shellingham>=1.3.0 in /usr/local/lib/python3.10/dist-packages (from typer<1.0,>=0.12->gradio) (1.5.4)\n",
            "Requirement already satisfied: rich>=10.11.0 in /usr/local/lib/python3.10/dist-packages (from typer<1.0,>=0.12->gradio) (13.9.3)\n",
            "Requirement already satisfied: six>=1.5 in /usr/local/lib/python3.10/dist-packages (from python-dateutil>=2.8.2->pandas<3.0,>=1.0->gradio) (1.16.0)\n",
            "Requirement already satisfied: markdown-it-py>=2.2.0 in /usr/local/lib/python3.10/dist-packages (from rich>=10.11.0->typer<1.0,>=0.12->gradio) (3.0.0)\n",
            "Requirement already satisfied: pygments<3.0.0,>=2.13.0 in /usr/local/lib/python3.10/dist-packages (from rich>=10.11.0->typer<1.0,>=0.12->gradio) (2.18.0)\n",
            "Requirement already satisfied: charset-normalizer<4,>=2 in /usr/local/lib/python3.10/dist-packages (from requests->huggingface-hub>=0.25.1->gradio) (3.4.0)\n",
            "Requirement already satisfied: urllib3<3,>=1.21.1 in /usr/local/lib/python3.10/dist-packages (from requests->huggingface-hub>=0.25.1->gradio) (2.2.3)\n",
            "Requirement already satisfied: mdurl~=0.1 in /usr/local/lib/python3.10/dist-packages (from markdown-it-py>=2.2.0->rich>=10.11.0->typer<1.0,>=0.12->gradio) (0.1.2)\n"
          ]
        }
      ]
    },
    {
      "cell_type": "code",
      "execution_count": 38,
      "metadata": {
        "colab": {
          "base_uri": "https://localhost:8080/",
          "height": 750
        },
        "id": "QE7gj26Nkcce",
        "outputId": "609777a0-b650-4f41-ca08-19d9e2d63e72"
      },
      "outputs": [
        {
          "output_type": "stream",
          "name": "stdout",
          "text": [
            "Drive already mounted at /content/drive; to attempt to forcibly remount, call drive.mount(\"/content/drive\", force_remount=True).\n",
            "No places found within the bounding box.\n"
          ]
        },
        {
          "output_type": "stream",
          "name": "stderr",
          "text": [
            "/usr/local/lib/python3.10/dist-packages/gradio/utils.py:980: UserWarning: Expected 2 arguments for function <function get_best_parking_location at 0x7ec2977fa9e0>, received 6.\n",
            "  warnings.warn(\n",
            "/usr/local/lib/python3.10/dist-packages/gradio/utils.py:988: UserWarning: Expected maximum 2 arguments for function <function get_best_parking_location at 0x7ec2977fa9e0>, received 6.\n",
            "  warnings.warn(\n"
          ]
        },
        {
          "output_type": "stream",
          "name": "stdout",
          "text": [
            "Running Gradio in a Colab notebook requires sharing enabled. Automatically setting `share=True` (you can turn this off by setting `share=False` in `launch()` explicitly).\n",
            "\n",
            "Colab notebook detected. To show errors in colab notebook, set debug=True in launch()\n",
            "* Running on public URL: https://0ac81a12daea7f816c.gradio.live\n",
            "\n",
            "This share link expires in 72 hours. For free permanent hosting and GPU upgrades, run `gradio deploy` from the terminal in the working directory to deploy to Hugging Face Spaces (https://huggingface.co/spaces)\n"
          ]
        },
        {
          "output_type": "display_data",
          "data": {
            "text/plain": [
              "<IPython.core.display.HTML object>"
            ],
            "text/html": [
              "<div><iframe src=\"https://0ac81a12daea7f816c.gradio.live\" width=\"100%\" height=\"500\" allow=\"autoplay; camera; microphone; clipboard-read; clipboard-write;\" frameborder=\"0\" allowfullscreen></iframe></div>"
            ]
          },
          "metadata": {}
        },
        {
          "output_type": "execute_result",
          "data": {
            "text/plain": []
          },
          "metadata": {},
          "execution_count": 38
        }
      ],
      "source": [
        "import gradio as gr\n",
        "import pandas as pd\n",
        "import pickle\n",
        "from datetime import datetime\n",
        "from geopy.geocoders import Nominatim\n",
        "from google.colab import drive\n",
        "from geopy.point import Point\n",
        "\n",
        "drive.mount('/content/drive')\n",
        "\n",
        "parking_info_df = pd.read_csv('/content/drive/My Drive/NUS-ISS AIS Projects/Project 2/Data/HDBCarparkInformation.csv')\n",
        "\n",
        "# Load KNN model\n",
        "#with open('knn_model_v2.pkl', 'rb') as f:\n",
        "    #knn_model = pickle.load(f)\n",
        "\n",
        "def get_singapore_locations():\n",
        "    geolocator = Nominatim(user_agent=\"best_parking_location_finder_app\")\n",
        "    location = geolocator.geocode(\"Singapore\")\n",
        "\n",
        "    # Get the bounding box for Singapore\n",
        "    south, north, west, east = location.raw['boundingbox']\n",
        "\n",
        "    # Use the bounding box to query for places within Singapore\n",
        "    places = geolocator.geocode(query=\"*\", viewbox=[Point(south, west), Point(north, east)], bounded=1)\n",
        "\n",
        "    if places is None:\n",
        "        print(\"No places found within the bounding box.\")\n",
        "        return []  # Return an empty list if places is None\n",
        "\n",
        "    # Extract and return the location names\n",
        "    location_names = [place.address for place in places if place]\n",
        "    return location_names\n",
        "\n",
        "locations = get_singapore_locations()  # Store the list of locations\n",
        "\n",
        "locations = parking_info_df['address'].unique().tolist()  #Just in case, geolocator doesn't work we can use this to get input locations\n",
        "\n",
        "parking_info_df = parking_info_df.rename(columns={'car_park_no': 'car_park_number'})\n",
        "parking_info_df = parking_info_df.drop('gantry_height', axis=1, errors='ignore')\n",
        "\n",
        "# Define a function to get the best parking location\n",
        "def get_best_parking_location(input_location, input_time):\n",
        "    # Convert the input time to the required format (if needed)\n",
        "    # Process location and time as model inputs\n",
        "    #model_input = [input_location, input_time]  # Modify as necessary for model input format\n",
        "    #prediction = knn_model.predict([model_input])\n",
        "\n",
        "    #randomly select 10 car park ID\n",
        "    prediction = parking_info_df['carpark_number'].sample(n=10).tolist()  #Randomly picked 3 10 locations to check working of UI\n",
        "\n",
        "    print(prediction)\n",
        "\n",
        "    #Get address of the predictions using parking_info_df\n",
        "    address_list = parking_info_df[parking_info_df['carpark_number'].isin(prediction)]['address'].tolist()\n",
        "    print(address_list)\n",
        "\n",
        "    recommendations = []\n",
        "    for parking_id in prediction:\n",
        "        parking_details = parking_info_df[parking_info_df['carpark_number'] == parking_id].iloc[0].to_dict()  # Convert to dictionary\n",
        "        details_string = f\"Location: {parking_details['address']}, Type: {parking_details['car_park_type']}, Parking System: {parking_details['type_of_parking_system']},  Free Parking: {parking_details['free_parking']},  Night Parking: {parking_details['night_parking']},  Car Park Decks: {parking_details['car_park_decks']},  Basement Parking: {parking_details['car_park_basement']}\"  # Format details\n",
        "        recommendations.append(details_string)\n",
        "\n",
        "        if (car_park_type == \"Any\" or parking_details['car_park_type'] == car_park_type) and \\\n",
        "           (free_parking == \"Any\" or parking_details['free_parking'] == free_parking) and \\\n",
        "           (car_park_basement == \"Any\" or parking_details['car_park_basement'] == car_park_basement) and \\\n",
        "           (night_parking == \"Any\" or parking_details['night_parking'] == night_parking):\n",
        "            recommendations.append(parking_id)\n",
        "            recommendations.append(details_string)\n",
        "\n",
        "    # Get top 3 filtered recommendations\n",
        "    top_3_recommendations = recommendations[:3]\n",
        "\n",
        "    return \", \".join(recommendations)  # Convert list to comma-separated string\n",
        "\n",
        "# Create Gradio interface\n",
        "location_dropdown = gr.Dropdown(choices=locations, label=\"Select or Type Location\", interactive=True)\n",
        "time_input = gr.Textbox(label=\"Enter Time (HH:MM)\", placeholder=\"e.g., 14:30\")\n",
        "car_park_type_dropdown = gr.Dropdown(choices=[\"Any\", \"Surface Car Park\", \"Multi-Storey Car Park\"], label=\"Car Park Type\")\n",
        "free_parking_dropdown = gr.Dropdown(choices=[\"Any\", \"Yes\", \"No\"], label=\"Free Parking\")\n",
        "car_park_basement_dropdown = gr.Dropdown(choices=[\"Any\", \"Yes\", \"No\"], label=\"Basement Parking\")\n",
        "night_parking_dropdown = gr.Dropdown(choices=[\"Any\", \"Yes\", \"No\"], label=\"Night Parking\")\n",
        "output_text = gr.Textbox(label=\"Best Parking Location\")\n",
        "\n",
        "gr.Interface(\n",
        "    fn=get_best_parking_location,\n",
        "    inputs=[location_dropdown, time_input, car_park_type_dropdown, free_parking_dropdown, car_park_basement_dropdown, night_parking_dropdown],\n",
        "    outputs=output_text,\n",
        "    title=\"Best Parking Location Finder\",\n",
        "    description=\"Select a location and enter a time to find the best parking option available.\",\n",
        ").launch()\n"
      ]
    }
  ]
}