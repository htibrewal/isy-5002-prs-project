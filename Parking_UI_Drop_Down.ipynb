{
  "nbformat": 4,
  "nbformat_minor": 0,
  "metadata": {
    "colab": {
      "provenance": []
    },
    "kernelspec": {
      "name": "python3",
      "display_name": "Python 3"
    },
    "language_info": {
      "name": "python"
    }
  },
  "cells": [
    {
      "cell_type": "markdown",
      "source": [],
      "metadata": {
        "id": "uGTeGaEJkihx"
      }
    },
    {
      "cell_type": "code",
      "source": [
        "!pip install geopy==2.3.0"
      ],
      "metadata": {
        "id": "ki4lEOiTlinu"
      },
      "execution_count": null,
      "outputs": []
    },
    {
      "cell_type": "code",
      "execution_count": null,
      "metadata": {
        "id": "QE7gj26Nkcce"
      },
      "outputs": [],
      "source": [
        "import gradio as gr\n",
        "import pandas as pd\n",
        "import pickle\n",
        "from datetime import datetime\n",
        "from geopy.geocoders import Nominatim\n",
        "from google.colab import drive\n",
        "\n",
        "drive.mount('/content/drive')\n",
        "\n",
        "parking_info_df = pd.read_csv('/content/drive/My Drive/NUS-ISS AIS Projects/Project 2/Data/HDBCarparkInformation.csv')\n",
        "\n",
        "# Load KNN model\n",
        "with open('knn_model_v2.pkl', 'rb') as f:\n",
        "    knn_model = pickle.load(f)\n",
        "\n",
        "def get_singapore_locations():\n",
        "    geolocator = Nominatim(user_agent=\"my_geocoder\")  # Replace with a descriptive user agent\n",
        "    location = geolocator.geocode(\"Singapore\")\n",
        "\n",
        "    # Get the bounding box for Singapore\n",
        "    south, north, west, east = location.raw['boundingbox']\n",
        "\n",
        "    # Use the bounding box to query for places within Singapore\n",
        "    places = geolocator.geocode(query=\"*\", viewbox=[west, south, east, north], bounded=1)\n",
        "\n",
        "    # Extract and return the location names\n",
        "    location_names = [place.address for place in places if place]\n",
        "    return location_names\n",
        "\n",
        "locations = get_singapore_locations()  # Store the list of locations\n",
        "\n",
        "parking_info_df = parking_info_df.rename(columns={'car_park_no': 'car_park_number'})\n",
        "parking_info_df = parking_info_df.drop('gantry_height', axis=1, errors='ignore')\n",
        "\n",
        "# Define a function to get the best parking location\n",
        "def get_best_parking_location(input_location, input_time):\n",
        "    # Convert the input time to the required format (if needed)\n",
        "    # Process location and time as model inputs\n",
        "    model_input = [input_location, input_time]  # Modify as necessary for model input format\n",
        "    prediction = knn_model.predict([model_input])\n",
        "\n",
        "    recommendations_details = []\n",
        "    for parking_id in prediction:\n",
        "        parking_details = parking_info_df[parking_info_df['carpark_number'] == parking_id].iloc[0].to_dict()  # Convert to dictionary\n",
        "        details_string = f\"Location: {parking_details['address']}, Type: {parking_details['car_park_type']}, Parking System: {parking_details['type_of_parking_system']},  Free Parking: {parking_details['free_parking']},  Night Parking: {parking_details['night_parking']},  Car Park Decks: {parking_details['car_park_decks']},  Basement Parking: {parking_details['car_park_basement']}\"  # Format details\n",
        "        recommendations_details.append(details_string)\n",
        "\n",
        "    return \", \".join(recommendations_details)  # Convert list to comma-separated string\n",
        "\n",
        "# Create Gradio interface\n",
        "location_dropdown = gr.inputs.Dropdown(choices=locations, label=\"Select or Type Location\", interactive=True)\n",
        "time_input = gr.inputs.Textbox(label=\"Enter Time (HH:MM)\", placeholder=\"e.g., 14:30\")\n",
        "output_text = gr.outputs.Textbox(label=\"Best Parking Location\")\n",
        "\n",
        "gr.Interface(\n",
        "    fn=get_best_parking_location,\n",
        "    inputs=[location_dropdown, time_input],\n",
        "    outputs=output_text,\n",
        "    title=\"Best Parking Location Finder\",\n",
        "    description=\"Select a location and enter a time to find the best parking option available.\",\n",
        ").launch()\n"
      ]
    }
  ]
}